{
 "cells": [
  {
   "cell_type": "code",
   "execution_count": 1,
   "id": "9f43b377-3d16-45ee-bd27-90f94e779578",
   "metadata": {},
   "outputs": [
    {
     "name": "stdout",
     "output_type": "stream",
     "text": [
      "Tuple: (10, 20, 30, 40, 50)\n"
     ]
    }
   ],
   "source": [
    "# Creating a tuple\n",
    "my_tuple = (10, 20, 30, 40, 50)\n",
    "\n",
    "# Display the tuple\n",
    "print(\"Tuple:\", my_tuple)"
   ]
  },
  {
   "cell_type": "code",
   "execution_count": 3,
   "id": "93887e03-b520-45de-adfa-32ec781ab65b",
   "metadata": {},
   "outputs": [
    {
     "name": "stdout",
     "output_type": "stream",
     "text": [
      "Index of 20: 1\n"
     ]
    }
   ],
   "source": [
    "#index()\n",
    "# Given tuple\n",
    "my_tuple = (10, 20, 30, 20, 40)\n",
    "\n",
    "# Find index of first occurrence of 20\n",
    "index_of_20 = my_tuple.index(20)\n",
    "\n",
    "# Print the index\n",
    "print(\"Index of 20:\", index_of_20)"
   ]
  },
  {
   "cell_type": "code",
   "execution_count": 7,
   "id": "d56be89e-53a0-40a6-b3a8-54d345e705e5",
   "metadata": {},
   "outputs": [
    {
     "name": "stdout",
     "output_type": "stream",
     "text": [
      "Count of 10: 3\n"
     ]
    }
   ],
   "source": [
    "#count ()\n",
    "# Given tuple\n",
    "my_tuple = (10, 20, 10, 30, 10, 40)\n",
    "\n",
    "# Count how many times 10 appears\n",
    "count_10 = my_tuple.count(10)\n",
    "\n",
    "# Print the count\n",
    "print(\"Count of 10:\", count_10)"
   ]
  },
  {
   "cell_type": "code",
   "execution_count": 9,
   "id": "f012fd2d-d344-4197-85b9-fe73e41c882c",
   "metadata": {},
   "outputs": [
    {
     "name": "stdout",
     "output_type": "stream",
     "text": [
      "Length of tuple: 4\n"
     ]
    }
   ],
   "source": [
    "#len ()\n",
    "# Given tuple\n",
    "my_tuple = (10, 20, 30, 40)\n",
    "\n",
    "# Find the length\n",
    "length = len(my_tuple)\n",
    "\n",
    "# Print the length\n",
    "print(\"Length of tuple:\", length)"
   ]
  },
  {
   "cell_type": "code",
   "execution_count": 11,
   "id": "7dce189f-4222-4e1e-afcf-d9d4e1634c02",
   "metadata": {},
   "outputs": [
    {
     "name": "stdout",
     "output_type": "stream",
     "text": [
      "Max value: 40\n",
      "Min value: 10\n"
     ]
    }
   ],
   "source": [
    "#min () and max ()\n",
    "# Given tuple\n",
    "my_tuple = (10, 20, 30, 40)\n",
    "\n",
    "# Find max and min values\n",
    "maximum_value = max(my_tuple)\n",
    "minimum_value = min(my_tuple)\n",
    "\n",
    "# Print values\n",
    "print(\"Max value:\", maximum_value)\n",
    "print(\"Min value:\", minimum_value)"
   ]
  },
  {
   "cell_type": "code",
   "execution_count": 13,
   "id": "09fb7523-bbf8-4e67-8248-9331c23d7176",
   "metadata": {},
   "outputs": [
    {
     "name": "stdout",
     "output_type": "stream",
     "text": [
      "Sum of tuple: 100\n"
     ]
    }
   ],
   "source": [
    "#sum ()\n",
    "# Given tuple\n",
    "my_tuple = (10, 20, 30, 40)\n",
    "\n",
    "# Calculate sum\n",
    "total = sum(my_tuple)\n",
    "\n",
    "# Print the sum\n",
    "print(\"Sum of tuple:\", total)"
   ]
  },
  {
   "cell_type": "code",
   "execution_count": 17,
   "id": "78a21f70-f0aa-412f-b1d8-71e65b7d068e",
   "metadata": {},
   "outputs": [
    {
     "name": "stdout",
     "output_type": "stream",
     "text": [
      "Converted tuple: [10, 20, 30, 40]\n"
     ]
    }
   ],
   "source": [
    "#tuple ()\n",
    "# Given list\n",
    "my_list = [10, 20, 30, 40]\n",
    "\n",
    "# Convert to tuple\n",
    "my_tuple = (my_list)\n",
    "\n",
    "# Print the tuple\n",
    "print(\"Converted tuple:\", my_tuple)"
   ]
  },
  {
   "cell_type": "code",
   "execution_count": 19,
   "id": "ade74615-e8f9-4e7c-8af0-54f472244564",
   "metadata": {},
   "outputs": [
    {
     "name": "stdout",
     "output_type": "stream",
     "text": [
      "[1, 3, 5]\n"
     ]
    }
   ],
   "source": [
    "#Given a tuple of numbers and a target element, find and print all indexes where the target element occurs in the tuple.\n",
    "my_tuple = (10, 20, 30, 20, 40, 20)\n",
    "target = 20\n",
    "\n",
    "indexes = []\n",
    "for i in range(len(my_tuple)):\n",
    "    if my_tuple[i] == target:\n",
    "        indexes.append(i)\n",
    "\n",
    "print(indexes)"
   ]
  },
  {
   "cell_type": "code",
   "execution_count": 21,
   "id": "b28c7ae5-f6dc-4364-95b4-e1ae639823d2",
   "metadata": {},
   "outputs": [
    {
     "name": "stdout",
     "output_type": "stream",
     "text": [
      "(1, 2, 3, 4, 5, 6)\n"
     ]
    }
   ],
   "source": [
    "#Flatten a Tuple of Tuples\n",
    "nested_tuple = ((1, 2), (3, 4), (5, 6))\n",
    "flat_list = []\n",
    "\n",
    "for t in nested_tuple:\n",
    "    for num in t:\n",
    "        flat_list.append(num)\n",
    "\n",
    "flat_tuple = tuple(flat_list)\n",
    "print(flat_tuple)"
   ]
  },
  {
   "cell_type": "code",
   "execution_count": 35,
   "id": "7d79cb4a-4205-43ec-97a3-ee99d717eb99",
   "metadata": {},
   "outputs": [
    {
     "name": "stdout",
     "output_type": "stream",
     "text": [
      "(40, 20, 30, 10)\n"
     ]
    }
   ],
   "source": [
    "#Swap First and Last Elements\n",
    "my_tuple = (10, 20, 30, 40)\n",
    "temp = list(my_tuple)\n",
    "\n",
    "temp[0], temp[-1] = temp[-1], temp[0]\n",
    "\n",
    "new_tuple = tuple(temp)\n",
    "print(new_tuple)"
   ]
  },
  {
   "cell_type": "code",
   "execution_count": 29,
   "id": "12ac9600-f43d-4e1d-81b5-72511566a918",
   "metadata": {},
   "outputs": [
    {
     "name": "stdout",
     "output_type": "stream",
     "text": [
      "True\n"
     ]
    }
   ],
   "source": [
    "#Check if Two Tuples are Identical\n",
    "tuple1 = (10, 20, 30)\n",
    "tuple2 = (10, 20, 30)\n",
    "\n",
    "print(tuple1 == tuple2)"
   ]
  }
 ],
 "metadata": {
  "kernelspec": {
   "display_name": "Python 3 (ipykernel)",
   "language": "python",
   "name": "python3"
  },
  "language_info": {
   "codemirror_mode": {
    "name": "ipython",
    "version": 3
   },
   "file_extension": ".py",
   "mimetype": "text/x-python",
   "name": "python",
   "nbconvert_exporter": "python",
   "pygments_lexer": "ipython3",
   "version": "3.12.4"
  }
 },
 "nbformat": 4,
 "nbformat_minor": 5
}
