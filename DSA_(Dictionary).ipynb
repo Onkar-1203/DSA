{
 "cells": [
  {
   "cell_type": "code",
   "execution_count": 1,
   "id": "dde5b4da-4ab8-4c6b-8b0b-a2d2f3df39b6",
   "metadata": {},
   "outputs": [
    {
     "name": "stdout",
     "output_type": "stream",
     "text": [
      "Dictionary: {'name': 'Alex', 'age': 21, 'branch': 'Machine Learning'}\n"
     ]
    }
   ],
   "source": [
    "#Declaration of Dictionary\n",
    "student = {\n",
    "    \"name\": \"Alex\",\n",
    "    \"age\": 21,\n",
    "    \"branch\": \"Machine Learning\"\n",
    "}\n",
    "print(\"Dictionary:\", student)"
   ]
  },
  {
   "cell_type": "code",
   "execution_count": 3,
   "id": "81748ddd-7301-4568-bc55-0a816c914b16",
   "metadata": {},
   "outputs": [
    {
     "name": "stdout",
     "output_type": "stream",
     "text": [
      "Alex\n",
      "None\n"
     ]
    }
   ],
   "source": [
    "#get() — Fetch value by key safely\n",
    "person = {\"name\": \"Alex\", \"age\": 25, \"city\": \"Mumbai\"}\n",
    "\n",
    "# Fetch existing key\n",
    "print(person.get(\"name\"))       \n",
    "\n",
    "# Fetch non-existing key\n",
    "print(person.get(\"country\"))"
   ]
  },
  {
   "cell_type": "code",
   "execution_count": 5,
   "id": "27e0fde3-98ad-46e9-82d8-c872a5a1dfaa",
   "metadata": {},
   "outputs": [
    {
     "name": "stdout",
     "output_type": "stream",
     "text": [
      "dict_keys(['name', 'age', 'city'])\n"
     ]
    }
   ],
   "source": [
    "#key ()\n",
    "person = {\"name\": \"Alex\", \"age\": 25, \"city\": \"Mumbai\"}\n",
    "\n",
    "# Get all keys\n",
    "print(person.keys())"
   ]
  },
  {
   "cell_type": "code",
   "execution_count": 7,
   "id": "14836941-e454-449e-a982-a2a44798008c",
   "metadata": {},
   "outputs": [
    {
     "name": "stdout",
     "output_type": "stream",
     "text": [
      "dict_values(['Alex', 25, 'Mumbai'])\n"
     ]
    }
   ],
   "source": [
    "#values ()\n",
    "person = {\"name\": \"Alex\", \"age\": 25, \"city\": \"Mumbai\"}\n",
    "\n",
    "# Get all values\n",
    "print(person.values())"
   ]
  },
  {
   "cell_type": "code",
   "execution_count": 9,
   "id": "30124bc6-da8f-41b5-afd3-74b7c511ba7b",
   "metadata": {},
   "outputs": [
    {
     "name": "stdout",
     "output_type": "stream",
     "text": [
      "dict_items([('name', 'Alex'), ('age', 25), ('city', 'Mumbai')])\n"
     ]
    }
   ],
   "source": [
    "#items ()\n",
    "person = {\"name\": \"Alex\", \"age\": 25, \"city\": \"Mumbai\"}\n",
    "\n",
    "# Get all key-value pairs\n",
    "print(person.items())"
   ]
  },
  {
   "cell_type": "code",
   "execution_count": 11,
   "id": "445253cc-f08c-481f-9961-8f7c3e9eb7c6",
   "metadata": {},
   "outputs": [
    {
     "name": "stdout",
     "output_type": "stream",
     "text": [
      "{'name': 'Alex', 'age': 26, 'city': 'Mumbai', 'country': 'India'}\n"
     ]
    }
   ],
   "source": [
    "#update ()\n",
    "person = {\"name\": \"Alex\", \"age\": 25, \"city\": \"Mumbai\"}\n",
    "\n",
    "# Update dictionary with new data\n",
    "person.update({\"age\": 26, \"country\": \"India\"})\n",
    "print(person)"
   ]
  },
  {
   "cell_type": "code",
   "execution_count": 13,
   "id": "dfcfa3b6-7940-449f-81e3-2892ef0e8748",
   "metadata": {},
   "outputs": [
    {
     "name": "stdout",
     "output_type": "stream",
     "text": [
      "Removed value: Mumbai\n",
      "{'name': 'Alex', 'age': 25}\n"
     ]
    }
   ],
   "source": [
    "#pop ()\n",
    "person = {\"name\": \"Alex\", \"age\": 25, \"city\": \"Mumbai\"}\n",
    "\n",
    "# Remove a key and get its value\n",
    "removed_value = person.pop(\"city\")\n",
    "print(\"Removed value:\", removed_value)\n",
    "print(person)"
   ]
  },
  {
   "cell_type": "code",
   "execution_count": 15,
   "id": "b5790296-2971-41bf-a048-ab8eba6c3603",
   "metadata": {},
   "outputs": [
    {
     "name": "stdout",
     "output_type": "stream",
     "text": [
      "Removed last item: ('city', 'Mumbai')\n",
      "{'name': 'Alex', 'age': 25}\n"
     ]
    }
   ],
   "source": [
    "#popitem ()\n",
    "person = {\"name\": \"Alex\", \"age\": 25, \"city\": \"Mumbai\"}\n",
    "\n",
    "# Remove last inserted item\n",
    "last_item = person.popitem()\n",
    "print(\"Removed last item:\", last_item)\n",
    "print(person)"
   ]
  },
  {
   "cell_type": "code",
   "execution_count": 17,
   "id": "bb99fe47-6703-452d-a002-2ffcd02c9f25",
   "metadata": {},
   "outputs": [
    {
     "name": "stdout",
     "output_type": "stream",
     "text": [
      "{}\n"
     ]
    }
   ],
   "source": [
    "#clear ()\n",
    "person = {\"name\": \"Alex\", \"age\": 25, \"city\": \"Mumbai\"}\n",
    "\n",
    "# Clear dictionary\n",
    "person.clear()\n",
    "print(person)"
   ]
  },
  {
   "cell_type": "code",
   "execution_count": 19,
   "id": "67280fde-541e-4e21-ab12-877f1e5fc81b",
   "metadata": {},
   "outputs": [
    {
     "name": "stdout",
     "output_type": "stream",
     "text": [
      "Copy: {'name': 'Alex', 'age': 25, 'city': 'Mumbai'}\n"
     ]
    }
   ],
   "source": [
    "#copy ()\n",
    "person = {\"name\": \"Alex\", \"age\": 25, \"city\": \"Mumbai\"}\n",
    "\n",
    "# Make a copy\n",
    "person_copy = person.copy()\n",
    "print(\"Copy:\", person_copy)"
   ]
  },
  {
   "cell_type": "code",
   "execution_count": 21,
   "id": "6d6af435-e525-49e4-abab-0c0054662e17",
   "metadata": {},
   "outputs": [
    {
     "name": "stdout",
     "output_type": "stream",
     "text": [
      "{'name': 'Alex', 'age': 25, 'city': 'Mumbai', 'country': 'India'}\n"
     ]
    }
   ],
   "source": [
    "#setdefault ()\n",
    "person = {\"name\": \"Alex\", \"age\": 25, \"city\": \"Mumbai\"}\n",
    "\n",
    "# Get value if exists, else set a default\n",
    "value = person.setdefault(\"country\", \"India\")\n",
    "print(person)"
   ]
  },
  {
   "cell_type": "code",
   "execution_count": 23,
   "id": "d64f833e-1a0a-463d-afa4-e9b9ae6aab04",
   "metadata": {},
   "outputs": [
    {
     "name": "stdout",
     "output_type": "stream",
     "text": [
      "{'name': 'Alex', 'city': 'Mumbai'}\n"
     ]
    }
   ],
   "source": [
    "#del ()\n",
    "person = {\"name\": \"Alex\", \"age\": 25, \"city\": \"Mumbai\"}\n",
    "\n",
    "# Delete a specific key\n",
    "del person[\"age\"]\n",
    "print(person)\n",
    "\n",
    "# Delete the entire dictionary\n",
    "del person\n",
    "#print(person)"
   ]
  },
  {
   "cell_type": "code",
   "execution_count": 25,
   "id": "31660a04-2895-4f2e-b96a-f468c03f1f97",
   "metadata": {},
   "outputs": [
    {
     "name": "stdout",
     "output_type": "stream",
     "text": [
      "{1: 1, 2: 2, 3: 3, 4: 1}\n"
     ]
    }
   ],
   "source": [
    "#Given a list of numbers, count how many times each number occurs using a dictionary.\n",
    "\n",
    "numbers = [1, 2, 2, 3, 3, 3, 4]\n",
    "frequency = {}\n",
    "\n",
    "for num in numbers:\n",
    "    if num in frequency:\n",
    "        frequency[num] += 1\n",
    "    else:\n",
    "        frequency[num] = 1\n",
    "\n",
    "print(frequency)"
   ]
  },
  {
   "cell_type": "code",
   "execution_count": 27,
   "id": "f71916ba-3794-49d4-8fce-18f21ddf7737",
   "metadata": {},
   "outputs": [
    {
     "name": "stdout",
     "output_type": "stream",
     "text": [
      "Topper is: Emma\n"
     ]
    }
   ],
   "source": [
    "#Find the Key with Maximum Value\n",
    "marks = {\"John\": 45, \"Emma\": 88, \"Noah\": 77}\n",
    "\n",
    "# Find key with maximum value\n",
    "topper = max(marks, key=marks.get)\n",
    "print(\"Topper is:\", topper)"
   ]
  },
  {
   "cell_type": "code",
   "execution_count": 31,
   "id": "50e59397-90dd-4f18-9f10-78e01b03670f",
   "metadata": {},
   "outputs": [
    {
     "name": "stdout",
     "output_type": "stream",
     "text": [
      "{'a': 1, 'b': 3, 'c': 4}\n"
     ]
    }
   ],
   "source": [
    "#Merge Two Dictionaries\n",
    "\n",
    "dict1 = {\"a\": 1, \"b\": 2}\n",
    "dict2 = {\"b\": 3, \"c\": 4}\n",
    "\n",
    "# Merge using update()\n",
    "dict1.update(dict2)\n",
    "print(dict1)"
   ]
  },
  {
   "cell_type": "code",
   "execution_count": 33,
   "id": "8c197af1-1d0c-4255-836c-9c69038b154c",
   "metadata": {},
   "outputs": [
    {
     "name": "stdout",
     "output_type": "stream",
     "text": [
      "{1: 'a', 2: 'b', 3: 'c'}\n"
     ]
    }
   ],
   "source": [
    "#Invert a Dictionary (Swap Keys and Values)\n",
    "\n",
    "original = {'a': 1, 'b': 2, 'c': 3}\n",
    "inverted = {}\n",
    "\n",
    "for key, value in original.items():\n",
    "    inverted[value] = key\n",
    "\n",
    "print(inverted)"
   ]
  },
  {
   "cell_type": "code",
   "execution_count": 35,
   "id": "82c71412-a548-4af5-a7d5-dc330680d4a8",
   "metadata": {},
   "outputs": [
    {
     "name": "stdout",
     "output_type": "stream",
     "text": [
      "True\n",
      "False\n"
     ]
    }
   ],
   "source": [
    "#Check if Two Dictionaries are Equal\n",
    "\n",
    "dict1 = {\"a\": 1, \"b\": 2}\n",
    "dict2 = {\"b\": 2, \"a\": 1}\n",
    "\n",
    "# Compare directly\n",
    "print(dict1 == dict2)  # True\n",
    "\n",
    "# Another Example\n",
    "dict3 = {\"a\": 2, \"b\": 1}\n",
    "print(dict1 == dict3) "
   ]
  }
 ],
 "metadata": {
  "kernelspec": {
   "display_name": "Python 3 (ipykernel)",
   "language": "python",
   "name": "python3"
  },
  "language_info": {
   "codemirror_mode": {
    "name": "ipython",
    "version": 3
   },
   "file_extension": ".py",
   "mimetype": "text/x-python",
   "name": "python",
   "nbconvert_exporter": "python",
   "pygments_lexer": "ipython3",
   "version": "3.12.4"
  }
 },
 "nbformat": 4,
 "nbformat_minor": 5
}
