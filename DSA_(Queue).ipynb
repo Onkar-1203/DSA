{
 "cells": [
  {
   "cell_type": "code",
   "execution_count": 1,
   "id": "61791f38-cec6-4d02-a11c-ff71605791ca",
   "metadata": {},
   "outputs": [
    {
     "name": "stdout",
     "output_type": "stream",
     "text": [
      "Initial queue: []\n",
      "Queue after enqueues: [10, 20, 30]\n",
      "Front element (peek): 10\n",
      "Removed element (dequeue): 10\n",
      "Queue after dequeue: [20, 30]\n",
      "Is queue empty? False\n",
      "Queue size: 2\n"
     ]
    }
   ],
   "source": [
    "class Queue:\n",
    "    def __init__(self):\n",
    "        self.queue = []\n",
    "\n",
    "    # Enqueue operation\n",
    "    def enqueue(self, item):\n",
    "        self.queue += [item]\n",
    "\n",
    "    # Dequeue operation\n",
    "    def dequeue(self):\n",
    "        if not self.isEmpty():\n",
    "            front_element = self.queue[0]\n",
    "            self.queue = self.queue[1:]  # remove first element manually\n",
    "            return front_element\n",
    "        else:\n",
    "            return \"Queue Underflow\"\n",
    "\n",
    "    # Peek operation\n",
    "    def peek(self):\n",
    "        if not self.isEmpty():\n",
    "            return self.queue[0]\n",
    "        else:\n",
    "            return \"Queue is empty\"\n",
    "\n",
    "    # isEmpty operation\n",
    "    def isEmpty(self):\n",
    "        return len(self.queue) == 0\n",
    "\n",
    "    # size operation\n",
    "    def size(self):\n",
    "        return len(self.queue)\n",
    "\n",
    "    # display queue\n",
    "    def display(self):\n",
    "        return self.queue\n",
    "\n",
    "\n",
    "# Example usage:\n",
    "q = Queue()\n",
    "print(\"Initial queue:\", q.display())\n",
    "\n",
    "q.enqueue(10)\n",
    "q.enqueue(20)\n",
    "q.enqueue(30)\n",
    "print(\"Queue after enqueues:\", q.display())\n",
    "\n",
    "print(\"Front element (peek):\", q.peek())\n",
    "\n",
    "print(\"Removed element (dequeue):\", q.dequeue())\n",
    "print(\"Queue after dequeue:\", q.display())\n",
    "\n",
    "print(\"Is queue empty?\", q.isEmpty())\n",
    "print(\"Queue size:\", q.size())"
   ]
  },
  {
   "cell_type": "code",
   "execution_count": 3,
   "id": "966de7db-fc7b-4446-9326-0b1d00ca80bf",
   "metadata": {},
   "outputs": [
    {
     "name": "stdout",
     "output_type": "stream",
     "text": [
      "Initial queue: []\n"
     ]
    }
   ],
   "source": [
    "#Declaring Queue using Python List\n",
    "queue = []\n",
    "print(\"Initial queue:\", queue)"
   ]
  },
  {
   "cell_type": "code",
   "execution_count": 5,
   "id": "cbd44929-a3ff-4711-815c-7f1066f1705f",
   "metadata": {},
   "outputs": [
    {
     "name": "stdout",
     "output_type": "stream",
     "text": [
      "Queue after enqueues: [10, 20, 30]\n"
     ]
    }
   ],
   "source": [
    "#enqueue() — Add element to rear\n",
    "queue = []\n",
    "queue.append(10)\n",
    "queue.append(20)\n",
    "queue.append(30)\n",
    "print(\"Queue after enqueues:\", queue)"
   ]
  },
  {
   "cell_type": "code",
   "execution_count": 7,
   "id": "8158af63-1725-478e-91b6-b5ba567c055a",
   "metadata": {},
   "outputs": [
    {
     "name": "stdout",
     "output_type": "stream",
     "text": [
      "Removed element: 10\n",
      "Queue after dequeue: [20, 30]\n"
     ]
    }
   ],
   "source": [
    "#dequeue() — Remove front element\n",
    "queue = [10, 20, 30]\n",
    "removed = queue.pop(0)\n",
    "print(\"Removed element:\", removed)\n",
    "print(\"Queue after dequeue:\", queue)"
   ]
  },
  {
   "cell_type": "code",
   "execution_count": 9,
   "id": "84dd62bf-632d-49aa-8388-c1d8ec3cbc10",
   "metadata": {},
   "outputs": [
    {
     "name": "stdout",
     "output_type": "stream",
     "text": [
      "Front element: 10\n"
     ]
    }
   ],
   "source": [
    "#peek() — View front element\n",
    "queue = [10, 20, 30]\n",
    "print(\"Front element:\", queue[0])"
   ]
  },
  {
   "cell_type": "code",
   "execution_count": 11,
   "id": "1d2b99ff-2af4-42a7-8d8a-90b71dc936ad",
   "metadata": {},
   "outputs": [
    {
     "name": "stdout",
     "output_type": "stream",
     "text": [
      "Is queue empty? True\n"
     ]
    }
   ],
   "source": [
    "#isEmpty() — Check if queue is empty\n",
    "queue = []\n",
    "print(\"Is queue empty?\", len(queue) == 0)"
   ]
  },
  {
   "cell_type": "code",
   "execution_count": 13,
   "id": "78e0b665-139d-43ef-abc6-630099f71d99",
   "metadata": {},
   "outputs": [
    {
     "name": "stdout",
     "output_type": "stream",
     "text": [
      "Size of queue: 3\n"
     ]
    }
   ],
   "source": [
    "#size() — Number of elements in queue\n",
    "queue = [10, 20, 30]\n",
    "print(\"Size of queue:\", len(queue))"
   ]
  },
  {
   "cell_type": "code",
   "execution_count": 15,
   "id": "c4c3d4e2-24d5-4752-bf0a-eee2e5f6b03f",
   "metadata": {},
   "outputs": [
    {
     "name": "stdout",
     "output_type": "stream",
     "text": [
      "10\n",
      "20\n"
     ]
    }
   ],
   "source": [
    "#Implement a Queue Using Two Stacks\n",
    "class QueueUsingStacks:\n",
    "    def __init__(self):\n",
    "        self.stack1 = []\n",
    "        self.stack2 = []\n",
    "\n",
    "    def enqueue(self, item):\n",
    "        self.stack1.append(item)\n",
    "\n",
    "    def dequeue(self):\n",
    "        if not self.stack2:\n",
    "            while self.stack1:\n",
    "                self.stack2.append(self.stack1.pop())\n",
    "        if not self.stack2:\n",
    "            return \"Queue Underflow\"\n",
    "        return self.stack2.pop()\n",
    "\n",
    "# Example\n",
    "q = QueueUsingStacks()\n",
    "q.enqueue(10)\n",
    "q.enqueue(20)\n",
    "q.enqueue(30)\n",
    "print(q.dequeue())  \n",
    "print(q.dequeue()) "
   ]
  },
  {
   "cell_type": "code",
   "execution_count": 17,
   "id": "711d99e2-47dd-4ce7-ab82-529e129a7614",
   "metadata": {},
   "outputs": [
    {
     "name": "stdout",
     "output_type": "stream",
     "text": [
      "['1', '10', '11', '100', '101', '110', '111']\n"
     ]
    }
   ],
   "source": [
    "#Generate Binary Numbers from 1 to N\n",
    "from collections import deque\n",
    "\n",
    "def generateBinaryNumbers(N):\n",
    "    result = []\n",
    "    queue = deque()\n",
    "    queue.append(\"1\")\n",
    "\n",
    "    for _ in range(N):\n",
    "        front = queue.popleft()\n",
    "        result.append(front)\n",
    "        queue.append(front + \"0\")\n",
    "        queue.append(front + \"1\")\n",
    "\n",
    "    return result\n",
    "\n",
    "# Example\n",
    "print(generateBinaryNumbers(7))  # ['1', '10', '11', '100', '101']"
   ]
  },
  {
   "cell_type": "code",
   "execution_count": 19,
   "id": "58b43173-01cc-40a2-90e1-ba3c73b3d467",
   "metadata": {},
   "outputs": [
    {
     "name": "stdout",
     "output_type": "stream",
     "text": [
      "[40, 30, 20, 10]\n"
     ]
    }
   ],
   "source": [
    "#Reverse a Queue\n",
    "from collections import deque\n",
    "\n",
    "def reverseQueue(queue):\n",
    "    if not queue:\n",
    "        return\n",
    "    front = queue.popleft()\n",
    "    reverseQueue(queue)\n",
    "    queue.append(front)\n",
    "\n",
    "# Example\n",
    "q = deque([10, 20, 30, 40])\n",
    "reverseQueue(q)\n",
    "print(list(q))  # [40, 30, 20, 10]"
   ]
  }
 ],
 "metadata": {
  "kernelspec": {
   "display_name": "Python 3 (ipykernel)",
   "language": "python",
   "name": "python3"
  },
  "language_info": {
   "codemirror_mode": {
    "name": "ipython",
    "version": 3
   },
   "file_extension": ".py",
   "mimetype": "text/x-python",
   "name": "python",
   "nbconvert_exporter": "python",
   "pygments_lexer": "ipython3",
   "version": "3.12.4"
  }
 },
 "nbformat": 4,
 "nbformat_minor": 5
}
