{
 "cells": [
  {
   "cell_type": "code",
   "execution_count": 1,
   "id": "938a6f05-83c2-40c8-b5ef-d921952c6583",
   "metadata": {},
   "outputs": [
    {
     "name": "stdout",
     "output_type": "stream",
     "text": [
      "Initial Set: {1, 2, 3, 4, 5}\n"
     ]
    }
   ],
   "source": [
    "my_set = {1, 2, 3, 4, 5}\n",
    "print(\"Initial Set:\", my_set)"
   ]
  },
  {
   "cell_type": "code",
   "execution_count": 3,
   "id": "8c092bbc-f07e-4979-bc0c-1a4c8fd13b18",
   "metadata": {},
   "outputs": [
    {
     "name": "stdout",
     "output_type": "stream",
     "text": [
      "After add: {1, 2, 3, 4}\n"
     ]
    }
   ],
   "source": [
    "my_set = {1, 2, 3}\n",
    "my_set.add(4)\n",
    "print(\"After add:\", my_set)"
   ]
  },
  {
   "cell_type": "code",
   "execution_count": 5,
   "id": "acf71c8d-5927-4d34-bde6-170241ee5af0",
   "metadata": {},
   "outputs": [
    {
     "name": "stdout",
     "output_type": "stream",
     "text": [
      "After update: {1, 2, 3, 4, 5}\n"
     ]
    }
   ],
   "source": [
    "# update ()\n",
    "my_set = {1, 2}\n",
    "my_set.update([3, 4, 5])\n",
    "print(\"After update:\", my_set)"
   ]
  },
  {
   "cell_type": "code",
   "execution_count": 9,
   "id": "ce32a9c3-dcf1-496b-b262-eaf7c0bbf494",
   "metadata": {},
   "outputs": [
    {
     "name": "stdout",
     "output_type": "stream",
     "text": [
      "After remove: {1, 2, 4, 5, 6}\n"
     ]
    }
   ],
   "source": [
    "my_set = {1, 2, 3, 4, 5, 6}\n",
    "my_set.remove(3)\n",
    "print(\"After remove:\", my_set)"
   ]
  },
  {
   "cell_type": "code",
   "execution_count": 11,
   "id": "d5811bde-424d-47f6-adb2-0520e5664193",
   "metadata": {},
   "outputs": [
    {
     "name": "stdout",
     "output_type": "stream",
     "text": [
      "After discard: {1, 2, 3}\n"
     ]
    }
   ],
   "source": [
    "my_set = {1, 2, 3}\n",
    "my_set.discard(5)  # Won't raise error\n",
    "print(\"After discard:\", my_set)"
   ]
  },
  {
   "cell_type": "code",
   "execution_count": 13,
   "id": "1fcf793c-c942-4849-a106-35bd64dbd64a",
   "metadata": {},
   "outputs": [
    {
     "name": "stdout",
     "output_type": "stream",
     "text": [
      "Removed item: 10\n",
      "After pop: {20, 30}\n"
     ]
    }
   ],
   "source": [
    "my_set = {10, 20, 30}\n",
    "removed_item = my_set.pop()\n",
    "print(\"Removed item:\", removed_item)\n",
    "print(\"After pop:\", my_set)"
   ]
  },
  {
   "cell_type": "code",
   "execution_count": 15,
   "id": "7e7371ad-38d6-4c80-b8a4-e55702faa2c4",
   "metadata": {},
   "outputs": [
    {
     "name": "stdout",
     "output_type": "stream",
     "text": [
      "After clear: set()\n"
     ]
    }
   ],
   "source": [
    "my_set = {1, 2, 3}\n",
    "my_set.clear()\n",
    "print(\"After clear:\", my_set)"
   ]
  },
  {
   "cell_type": "code",
   "execution_count": 17,
   "id": "b9264596-2faa-47d3-88f5-ea701be4abd4",
   "metadata": {},
   "outputs": [
    {
     "name": "stdout",
     "output_type": "stream",
     "text": [
      "Union: {1, 2, 3, 4, 5}\n"
     ]
    }
   ],
   "source": [
    "set1 = {1, 2, 3}\n",
    "set2 = {3, 4, 5}\n",
    "result = set1.union(set2)\n",
    "print(\"Union:\", result)"
   ]
  },
  {
   "cell_type": "code",
   "execution_count": 19,
   "id": "69117dba-4295-4600-9f57-fff37f204fa3",
   "metadata": {},
   "outputs": [
    {
     "name": "stdout",
     "output_type": "stream",
     "text": [
      "Intersection: {2, 3}\n"
     ]
    }
   ],
   "source": [
    "set1 = {1, 2, 3}\n",
    "set2 = {2, 3, 4}\n",
    "result = set1.intersection(set2)\n",
    "print(\"Intersection:\", result)"
   ]
  },
  {
   "cell_type": "code",
   "execution_count": 21,
   "id": "15e8cd59-1959-44c8-b31a-be48031a9b96",
   "metadata": {},
   "outputs": [
    {
     "name": "stdout",
     "output_type": "stream",
     "text": [
      "Symmetric Difference: {1}\n"
     ]
    }
   ],
   "source": [
    "set1 = {1, 2, 3}\n",
    "set2 = {2, 3, 4}\n",
    "result = set1.difference(set2)\n",
    "print(\"Symmetric Difference:\", result)"
   ]
  },
  {
   "cell_type": "code",
   "execution_count": 23,
   "id": "48337bec-3803-425d-bbe8-3a768552a75a",
   "metadata": {},
   "outputs": [
    {
     "name": "stdout",
     "output_type": "stream",
     "text": [
      "Is set1 subset of set2? True\n"
     ]
    }
   ],
   "source": [
    "set1 = {1, 2}\n",
    "set2 = {1, 2, 3}\n",
    "print(\"Is set1 subset of set2?\", set1.issubset(set2))"
   ]
  },
  {
   "cell_type": "code",
   "execution_count": 25,
   "id": "9ba3afc4-22d7-4c94-be2e-f17f3c164c3c",
   "metadata": {},
   "outputs": [
    {
     "name": "stdout",
     "output_type": "stream",
     "text": [
      "Is set1 superset of set2? False\n"
     ]
    }
   ],
   "source": [
    "set1 = {1, 2, 3}\n",
    "set2 = {2, 3}\n",
    "print(\"Is set1 superset of set2?\", set2.issuperset(set1))"
   ]
  },
  {
   "cell_type": "code",
   "execution_count": 27,
   "id": "70a53940-b604-4274-b06f-f5b54457b86a",
   "metadata": {},
   "outputs": [
    {
     "name": "stdout",
     "output_type": "stream",
     "text": [
      "Length of set: 4\n"
     ]
    }
   ],
   "source": [
    "my_set = {10, 20, 30, 40}\n",
    "print(\"Length of set:\", len(my_set))"
   ]
  },
  {
   "cell_type": "code",
   "execution_count": 29,
   "id": "dee9e486-b6e1-4af4-98f1-387eecd54b2e",
   "metadata": {},
   "outputs": [
    {
     "name": "stdout",
     "output_type": "stream",
     "text": [
      "Unique numbers: [1, 2, 3, 4, 5]\n"
     ]
    }
   ],
   "source": [
    "#Remove Duplicates from a List Using Set\n",
    "# Given list\n",
    "numbers = [1, 2, 3, 2, 4, 1, 5]\n",
    "\n",
    "# Remove duplicates by converting list to set and back to list\n",
    "unique_numbers = list(set(numbers))\n",
    "\n",
    "# Print unique numbers\n",
    "print(\"Unique numbers:\", unique_numbers)"
   ]
  },
  {
   "cell_type": "code",
   "execution_count": 31,
   "id": "4dea30c1-1ed9-47d5-99dc-b8a44cf9f351",
   "metadata": {},
   "outputs": [
    {
     "name": "stdout",
     "output_type": "stream",
     "text": [
      "No\n"
     ]
    }
   ],
   "source": [
    "#Check if Two Sets Have Common Elements\n",
    "# Given sets\n",
    "set1 = {1, 2, 3}\n",
    "set2 = {4, 5, 6}\n",
    "\n",
    "# Check for common elements\n",
    "if set1.intersection(set2):\n",
    "    print(\"Yes\")\n",
    "else:\n",
    "    print(\"No\")"
   ]
  },
  {
   "cell_type": "code",
   "execution_count": 33,
   "id": "8ed6b51c-3034-4b72-8062-65f07ee6cc4d",
   "metadata": {},
   "outputs": [
    {
     "name": "stdout",
     "output_type": "stream",
     "text": [
      "Elements unique to either set: {1, 2, 4, 5}\n"
     ]
    }
   ],
   "source": [
    "#Find Elements Present in Only One of the Two Sets\n",
    "# Given sets\n",
    "set1 = {1, 2, 3}\n",
    "set2 = {3, 4, 5}\n",
    "\n",
    "# Symmetric difference gives elements not common to both\n",
    "result = set1.symmetric_difference(set2)\n",
    "\n",
    "# Print result\n",
    "print(\"Elements unique to either set:\", result)"
   ]
  },
  {
   "cell_type": "code",
   "execution_count": 35,
   "id": "e4a901f4-9f93-451c-a1c0-70328989c3c6",
   "metadata": {},
   "outputs": [
    {
     "name": "stdout",
     "output_type": "stream",
     "text": [
      "Number of unique characters: 4\n"
     ]
    }
   ],
   "source": [
    "#Count the Number of Unique Characters in a String\n",
    "# Given string\n",
    "text = \"hello\"\n",
    "\n",
    "# Convert string to set to get unique characters\n",
    "unique_chars = set(text)\n",
    "\n",
    "# Print count of unique characters\n",
    "print(\"Number of unique characters:\", len(unique_chars))"
   ]
  },
  {
   "cell_type": "code",
   "execution_count": 37,
   "id": "6d951b4c-955e-484e-9d6d-5940d10b779a",
   "metadata": {},
   "outputs": [
    {
     "name": "stdout",
     "output_type": "stream",
     "text": [
      "Is set1 a subset of set2? True\n"
     ]
    }
   ],
   "source": [
    "#Check if One Set is a Subset of Another\n",
    "# Given sets\n",
    "set1 = {1, 2}\n",
    "set2 = {1, 2, 3, 4}\n",
    "\n",
    "# Check if set1 is subset of set2\n",
    "print(\"Is set1 a subset of set2?\", set1.issubset(set2))"
   ]
  },
  {
   "cell_type": "code",
   "execution_count": null,
   "id": "5e04632c-feb3-4c0c-8b7e-57cba1b87aa6",
   "metadata": {},
   "outputs": [],
   "source": []
  }
 ],
 "metadata": {
  "kernelspec": {
   "display_name": "Python 3 (ipykernel)",
   "language": "python",
   "name": "python3"
  },
  "language_info": {
   "codemirror_mode": {
    "name": "ipython",
    "version": 3
   },
   "file_extension": ".py",
   "mimetype": "text/x-python",
   "name": "python",
   "nbconvert_exporter": "python",
   "pygments_lexer": "ipython3",
   "version": "3.12.4"
  }
 },
 "nbformat": 4,
 "nbformat_minor": 5
}
