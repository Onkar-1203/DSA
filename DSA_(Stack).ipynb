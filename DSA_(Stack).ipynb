{
 "cells": [
  {
   "cell_type": "code",
   "execution_count": 1,
   "id": "c2179873-81ca-4825-b6dc-7d3713e0abd3",
   "metadata": {},
   "outputs": [
    {
     "name": "stdout",
     "output_type": "stream",
     "text": [
      "Initial Stack: []\n",
      "Stack after pushes: [100, 260, 360]\n",
      "Top element (peek): 360\n",
      "Removed element (pop): 360\n",
      "Stack after pop: [100, 260]\n",
      "Is stack empty? False\n",
      "Stack size: 2\n"
     ]
    }
   ],
   "source": [
    "# Stack implementation using a class\n",
    "class Stack:\n",
    "    def __init__(self):\n",
    "        self.stack = []  # internal list to store elements\n",
    "\n",
    "    # Push operation: Add element at the end\n",
    "    def push(self, item):\n",
    "        self.stack += [item]  # concatenation instead of append\n",
    "\n",
    "    # Pop operation: Remove and return top element\n",
    "    def pop(self):\n",
    "        if not self.isEmpty():\n",
    "            top_element = self.stack[len(self.stack)-1]\n",
    "            self.stack = self.stack[:-1]  # remove last element manually\n",
    "            return top_element\n",
    "        else:\n",
    "            return \"Stack Underflow\"\n",
    "\n",
    "    # Peek operation: Return top element without removing\n",
    "    def peek(self):\n",
    "        if not self.isEmpty():\n",
    "            return self.stack[len(self.stack)-1]\n",
    "        else:\n",
    "            return \"Stack is empty\"\n",
    "\n",
    "    # isEmpty operation: Check if stack is empty\n",
    "    def isEmpty(self):\n",
    "        return len(self.stack) == 0\n",
    "\n",
    "    # size operation: Return number of elements in stack\n",
    "    def size(self):\n",
    "        return len(self.stack)\n",
    "\n",
    "    # Display stack (for debugging)\n",
    "    def display(self):\n",
    "        return self.stack\n",
    "\n",
    "\n",
    "# Example usage:\n",
    "s = Stack()\n",
    "print(\"Initial Stack:\", s.display())\n",
    "\n",
    "s.push(100)\n",
    "s.push(260)\n",
    "s.push(360)\n",
    "print(\"Stack after pushes:\", s.display())\n",
    "\n",
    "print(\"Top element (peek):\", s.peek())\n",
    "\n",
    "print(\"Removed element (pop):\", s.pop())\n",
    "print(\"Stack after pop:\", s.display())\n",
    "\n",
    "print(\"Is stack empty?\", s.isEmpty())\n",
    "print(\"Stack size:\", s.size())"
   ]
  },
  {
   "cell_type": "code",
   "execution_count": 3,
   "id": "334becad-84a3-415f-aa50-5dfb4ed26916",
   "metadata": {},
   "outputs": [
    {
     "name": "stdout",
     "output_type": "stream",
     "text": [
      "Initial stack: []\n"
     ]
    }
   ],
   "source": [
    "stack = []\n",
    "print(\"Initial stack:\", stack)"
   ]
  },
  {
   "cell_type": "code",
   "execution_count": 5,
   "id": "7628f6d5-dcdf-4b51-8763-9b2ca7865f52",
   "metadata": {},
   "outputs": [
    {
     "name": "stdout",
     "output_type": "stream",
     "text": [
      "After push operations: [10, 20, 30]\n"
     ]
    }
   ],
   "source": [
    "#push\n",
    "stack = []\n",
    "stack.append(10)\n",
    "stack.append(20)\n",
    "stack.append(30)\n",
    "print(\"After push operations:\", stack)"
   ]
  },
  {
   "cell_type": "code",
   "execution_count": 7,
   "id": "d8b0080f-1afb-4f9f-a1ed-2f0028ee0800",
   "metadata": {},
   "outputs": [
    {
     "name": "stdout",
     "output_type": "stream",
     "text": [
      "Removed element: 30\n",
      "After pop operation: [10, 20]\n"
     ]
    }
   ],
   "source": [
    "#pop ()\n",
    "stack = [10, 20, 30]\n",
    "removed = stack.pop()\n",
    "print(\"Removed element:\", removed)\n",
    "print(\"After pop operation:\", stack)"
   ]
  },
  {
   "cell_type": "code",
   "execution_count": 9,
   "id": "3388c15d-a484-487e-aa0e-ad697a838c72",
   "metadata": {},
   "outputs": [
    {
     "name": "stdout",
     "output_type": "stream",
     "text": [
      "Top element: 30\n"
     ]
    }
   ],
   "source": [
    "#peek ()\n",
    "stack = [10, 20, 30]\n",
    "print(\"Top element:\", stack[-1])"
   ]
  },
  {
   "cell_type": "code",
   "execution_count": 11,
   "id": "8648c3c9-15cd-47c3-91eb-c9053d37bd40",
   "metadata": {},
   "outputs": [
    {
     "name": "stdout",
     "output_type": "stream",
     "text": [
      "Is stack empty? True\n"
     ]
    }
   ],
   "source": [
    "#isEmpty() — Check if stack is empty\n",
    "stack = []\n",
    "print(\"Is stack empty?\", len(stack) == 0)"
   ]
  },
  {
   "cell_type": "code",
   "execution_count": 13,
   "id": "b6c96d67-cdeb-4816-92e9-ed8bb28207fd",
   "metadata": {},
   "outputs": [
    {
     "name": "stdout",
     "output_type": "stream",
     "text": [
      "Size of stack: 3\n"
     ]
    }
   ],
   "source": [
    "#size ()\n",
    "stack = [10, 20, 30]\n",
    "print(\"Size of stack:\", len(stack))"
   ]
  },
  {
   "cell_type": "code",
   "execution_count": 17,
   "id": "bf2bc814-411a-4ec6-ac1b-577b979afd82",
   "metadata": {},
   "outputs": [
    {
     "name": "stdout",
     "output_type": "stream",
     "text": [
      "Next Greater Elements: {4: 5, 2: 25, 5: 25, 25: -1}\n"
     ]
    }
   ],
   "source": [
    "#Next Greater Element (NGE) Using Stack\n",
    "def nextGreaterElement(arr):\n",
    "    result = {}\n",
    "    stack = []\n",
    "\n",
    "    for num in arr:\n",
    "        # Pop elements from stack if current num is greater\n",
    "        while stack and stack[-1] < num:\n",
    "            result[stack.pop()] = num\n",
    "        stack.append(num)\n",
    "\n",
    "    # Remaining elements have no greater element\n",
    "    while stack:\n",
    "        result[stack.pop()] = -1\n",
    "\n",
    "    return result\n",
    "\n",
    "# Test\n",
    "arr = [4, 5, 2, 25]\n",
    "print(\"Next Greater Elements:\", nextGreaterElement(arr))"
   ]
  },
  {
   "cell_type": "code",
   "execution_count": 19,
   "id": "9642cd38-1533-403c-8ce8-81a58543d4d6",
   "metadata": {},
   "outputs": [
    {
     "name": "stdout",
     "output_type": "stream",
     "text": [
      "Balanced\n",
      "Not Balanced\n"
     ]
    }
   ],
   "source": [
    "#Check for Balanced Parentheses\n",
    "def isBalanced(expression):\n",
    "    stack = []\n",
    "    pairs = {')': '(', '}': '{', ']': '['}\n",
    "\n",
    "    for char in expression:\n",
    "        if char in '({[':\n",
    "            stack.append(char)\n",
    "        elif char in ')}]':\n",
    "            if not stack or stack[-1] != pairs[char]:\n",
    "                return \"Not Balanced\"\n",
    "            stack.pop()\n",
    "\n",
    "    return \"Balanced\" if not stack else \"Not Balanced\"\n",
    "\n",
    "# Test cases\n",
    "print(isBalanced(\"{[()]}\"))   # Balanced\n",
    "print(isBalanced(\"{[(])}\"))   # Not Balanced"
   ]
  },
  {
   "cell_type": "code",
   "execution_count": 23,
   "id": "5caaf3f0-1c87-4b47-a624-e8ae666f4f98",
   "metadata": {},
   "outputs": [
    {
     "name": "stdout",
     "output_type": "stream",
     "text": [
      "olleh\n"
     ]
    }
   ],
   "source": [
    "#Reverse a String Using Stack\n",
    "def reverseString(string):\n",
    "    stack = []\n",
    "\n",
    "    for char in string:\n",
    "        stack.append(char)\n",
    "\n",
    "    reversed_str = \"\"\n",
    "    while stack:\n",
    "        reversed_str += stack.pop()\n",
    "\n",
    "    return reversed_str\n",
    "\n",
    "# Test\n",
    "print(reverseString(\"hello\"))  # olleh"
   ]
  },
  {
   "cell_type": "code",
   "execution_count": 25,
   "id": "ef82fcb6-9210-4bee-b77b-7bcf9b8196e5",
   "metadata": {},
   "outputs": [
    {
     "name": "stdout",
     "output_type": "stream",
     "text": [
      "Sorted stack: [3, 23, 31, 34, 92, 98]\n"
     ]
    }
   ],
   "source": [
    "#Sort a Stack (Using One More Stack)\n",
    "def sortStack(original_stack):\n",
    "    temp_stack = []\n",
    "\n",
    "    while original_stack:\n",
    "        temp = original_stack.pop()\n",
    "\n",
    "        while temp_stack and temp_stack[-1] > temp:\n",
    "            original_stack.append(temp_stack.pop())\n",
    "\n",
    "        temp_stack.append(temp)\n",
    "\n",
    "    return temp_stack\n",
    "\n",
    "# Test\n",
    "stack = [34, 3, 31, 98, 92, 23]\n",
    "sorted_stack = sortStack(stack)\n",
    "print(\"Sorted stack:\", sorted_stack)"
   ]
  }
 ],
 "metadata": {
  "kernelspec": {
   "display_name": "Python 3 (ipykernel)",
   "language": "python",
   "name": "python3"
  },
  "language_info": {
   "codemirror_mode": {
    "name": "ipython",
    "version": 3
   },
   "file_extension": ".py",
   "mimetype": "text/x-python",
   "name": "python",
   "nbconvert_exporter": "python",
   "pygments_lexer": "ipython3",
   "version": "3.12.4"
  }
 },
 "nbformat": 4,
 "nbformat_minor": 5
}
