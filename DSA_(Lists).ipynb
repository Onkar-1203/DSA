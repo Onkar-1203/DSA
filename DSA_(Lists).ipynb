{
 "cells": [
  {
   "cell_type": "code",
   "execution_count": 1,
   "id": "c86578d7-3eb4-41f0-b39f-d8211618bf1e",
   "metadata": {},
   "outputs": [
    {
     "name": "stdout",
     "output_type": "stream",
     "text": [
      "List: [10, 20, 30, 40, 20]\n"
     ]
    }
   ],
   "source": [
    "# Creating a list\n",
    "my_list = [10, 20, 30, 40, 20]\n",
    "print(\"List:\", my_list)"
   ]
  },
  {
   "cell_type": "code",
   "execution_count": 3,
   "id": "88f83119-b898-4c84-bcfe-ddc04b45869b",
   "metadata": {},
   "outputs": [
    {
     "name": "stdout",
     "output_type": "stream",
     "text": [
      "After append: [10, 20, 30, 40]\n"
     ]
    }
   ],
   "source": [
    "# append() → Adds a single element to the end of the list\n",
    "numbers = [10, 20, 30]\n",
    "numbers.append(40)\n",
    "print(\"After append:\", numbers)  # [10, 20, 30, 40]"
   ]
  },
  {
   "cell_type": "code",
   "execution_count": 5,
   "id": "8b7bf2ba-2e3b-448b-97c5-7fb5ead6143e",
   "metadata": {},
   "outputs": [
    {
     "name": "stdout",
     "output_type": "stream",
     "text": [
      "After extend: [1, 2, 3, 4, 5, 6]\n"
     ]
    }
   ],
   "source": [
    "# extend() → Adds all elements from another iterable (like another list)\n",
    "numbers = [1, 2, 3]\n",
    "numbers.extend([4, 5, 6])\n",
    "print(\"After extend:\", numbers)  # [1, 2, 3, 4, 5, 6]"
   ]
  },
  {
   "cell_type": "code",
   "execution_count": 7,
   "id": "7bc2b6df-a537-49b1-850e-2cc5f9764333",
   "metadata": {},
   "outputs": [
    {
     "name": "stdout",
     "output_type": "stream",
     "text": [
      "After insert: [1, 2, 3, 4]\n"
     ]
    }
   ],
   "source": [
    "# insert() → Inserts an element at a specified index\n",
    "numbers = [1, 3, 4]\n",
    "numbers.insert(1, 2)  # Insert 2 at index 1\n",
    "print(\"After insert:\", numbers)  # [1, 2, 3, 4]"
   ]
  },
  {
   "cell_type": "code",
   "execution_count": 9,
   "id": "5a39fd24-9815-4e32-83e7-787dcbb6ca7e",
   "metadata": {},
   "outputs": [
    {
     "name": "stdout",
     "output_type": "stream",
     "text": [
      "After remove: [1, 3, 2]\n"
     ]
    }
   ],
   "source": [
    "# remove() → Removes the first occurrence of a specified value\n",
    "numbers = [1, 2, 3, 2]\n",
    "numbers.remove(2)  # Removes the first 2\n",
    "print(\"After remove:\", numbers)  # [1, 3, 2]"
   ]
  },
  {
   "cell_type": "code",
   "execution_count": 11,
   "id": "6e2f0316-2b7a-4429-a458-32400cdf9774",
   "metadata": {},
   "outputs": [
    {
     "name": "stdout",
     "output_type": "stream",
     "text": [
      "Popped value: 30\n",
      "After pop: [10, 20]\n"
     ]
    }
   ],
   "source": [
    "# pop() → Removes and returns element at given index (default is last)\n",
    "numbers = [10, 20, 30]\n",
    "popped_value = numbers.pop()  # Removes 30\n",
    "print(\"Popped value:\", popped_value)\n",
    "print(\"After pop:\", numbers)  # [10, 20]"
   ]
  },
  {
   "cell_type": "code",
   "execution_count": 13,
   "id": "4670405d-ba73-4075-a591-c98f0e13383a",
   "metadata": {},
   "outputs": [
    {
     "name": "stdout",
     "output_type": "stream",
     "text": [
      "After clear: []\n"
     ]
    }
   ],
   "source": [
    "# clear() → Removes all elements from the list\n",
    "numbers = [10, 20, 30]\n",
    "numbers.clear()\n",
    "print(\"After clear:\", numbers)  # []"
   ]
  },
  {
   "cell_type": "code",
   "execution_count": 15,
   "id": "270bf748-1183-488a-81c7-15510583dcf1",
   "metadata": {},
   "outputs": [
    {
     "name": "stdout",
     "output_type": "stream",
     "text": [
      "Index of 30: 2\n"
     ]
    }
   ],
   "source": [
    "# index() → Returns the index of the first occurrence of a specified value\n",
    "numbers = [10, 20, 30, 40]\n",
    "index_pos = numbers.index(30)\n",
    "print(\"Index of 30:\", index_pos)  # 2"
   ]
  },
  {
   "cell_type": "code",
   "execution_count": 17,
   "id": "9bf40b8f-64a3-4644-90b4-ffaad4adb576",
   "metadata": {},
   "outputs": [
    {
     "name": "stdout",
     "output_type": "stream",
     "text": [
      "Count of 2: 3\n"
     ]
    }
   ],
   "source": [
    "# count() → Counts the number of times a value occurs in the list\n",
    "numbers = [1, 2, 3, 2, 4, 2]\n",
    "count_twos = numbers.count(2)\n",
    "print(\"Count of 2:\", count_twos)  # 3"
   ]
  },
  {
   "cell_type": "code",
   "execution_count": 19,
   "id": "c230fb86-bd83-45bf-be63-49f3a339ebda",
   "metadata": {},
   "outputs": [
    {
     "name": "stdout",
     "output_type": "stream",
     "text": [
      "After reverse: [4, 3, 2, 1]\n"
     ]
    }
   ],
   "source": [
    "# reverse() → Reverses the list in-place\n",
    "numbers = [1, 2, 3, 4]\n",
    "numbers.reverse()\n",
    "print(\"After reverse:\", numbers)  # [4, 3, 2, 1]"
   ]
  },
  {
   "cell_type": "code",
   "execution_count": 21,
   "id": "fc1f7828-edb0-4482-a1f9-cf35fd9614f3",
   "metadata": {},
   "outputs": [
    {
     "name": "stdout",
     "output_type": "stream",
     "text": [
      "After sort: [1, 2, 3, 4]\n"
     ]
    }
   ],
   "source": [
    "# sort() → Sorts the list in ascending order\n",
    "numbers = [3, 1, 4, 2]\n",
    "numbers.sort()\n",
    "print(\"After sort:\", numbers)  # [1, 2, 3, 4]"
   ]
  },
  {
   "cell_type": "code",
   "execution_count": 23,
   "id": "6d332248-5ecd-4e09-9032-e70ed141c622",
   "metadata": {},
   "outputs": [
    {
     "name": "stdout",
     "output_type": "stream",
     "text": [
      "Copied list: [1, 2, 3]\n"
     ]
    }
   ],
   "source": [
    "# copy() → Returns a shallow copy of the list\n",
    "numbers = [1, 2, 3]\n",
    "copy_numbers = numbers.copy()\n",
    "print(\"Copied list:\", copy_numbers)  # [1, 2, 3]"
   ]
  },
  {
   "cell_type": "code",
   "execution_count": 25,
   "id": "fbfcb21b-fa63-4813-9470-625b339b207a",
   "metadata": {},
   "outputs": [
    {
     "name": "stdout",
     "output_type": "stream",
     "text": [
      "Length of list: 4\n"
     ]
    }
   ],
   "source": [
    "# len() → Returns the number of elements in the list\n",
    "numbers = [1, 2, 3, 4]\n",
    "print(\"Length of list:\", len(numbers))  # 4"
   ]
  },
  {
   "cell_type": "code",
   "execution_count": 27,
   "id": "30c2a323-f768-4961-b6e1-6c389afc3aab",
   "metadata": {},
   "outputs": [
    {
     "name": "stdout",
     "output_type": "stream",
     "text": [
      "Sum of list: 10\n"
     ]
    }
   ],
   "source": [
    "# sum() → Returns the sum of all numeric elements in the list\n",
    "numbers = [1, 2, 3, 4]\n",
    "total = sum(numbers)\n",
    "print(\"Sum of list:\", total)  # 10"
   ]
  },
  {
   "cell_type": "code",
   "execution_count": 29,
   "id": "fd7e6d9b-b555-4abc-ac74-860d816190b9",
   "metadata": {},
   "outputs": [
    {
     "name": "stdout",
     "output_type": "stream",
     "text": [
      "Max value: 10\n",
      "Min value: 2\n"
     ]
    }
   ],
   "source": [
    "# max() → Returns the largest element in the list\n",
    "# min() → Returns the smallest element in the list\n",
    "numbers = [5, 8, 2, 10, 3]\n",
    "print(\"Max value:\", max(numbers))  # 10\n",
    "print(\"Min value:\", min(numbers))  # 2"
   ]
  },
  {
   "cell_type": "code",
   "execution_count": 31,
   "id": "f9bf0c17-f888-4ec2-a592-727917a3f25a",
   "metadata": {},
   "outputs": [
    {
     "name": "stdout",
     "output_type": "stream",
     "text": [
      "Updated list after append: [10, 20, 30, 40, 100]\n"
     ]
    }
   ],
   "source": [
    "#Append the number 100 to the end of the list\n",
    "# Given list\n",
    "numbers = [10, 20, 30, 40]\n",
    "\n",
    "# Append 100 to the list\n",
    "numbers.append(100)\n",
    "\n",
    "# Print the updated list\n",
    "print(\"Updated list after append:\", numbers)"
   ]
  },
  {
   "cell_type": "code",
   "execution_count": 33,
   "id": "be299d1f-6f5a-4fa3-8b69-871bd7416343",
   "metadata": {},
   "outputs": [
    {
     "name": "stdout",
     "output_type": "stream",
     "text": [
      "Updated list after insert: [10, 20, 50, 30, 40]\n"
     ]
    }
   ],
   "source": [
    "#Insert the number 50 at the 3rd position (index 2).\n",
    "# Given list\n",
    "numbers = [10, 20, 30, 40]\n",
    "\n",
    "# Insert 50 at index 2 (3rd position)\n",
    "numbers.insert(2, 50)\n",
    "\n",
    "# Print the updated list\n",
    "print(\"Updated list after insert:\", numbers)"
   ]
  },
  {
   "cell_type": "code",
   "execution_count": 35,
   "id": "07ec4308-f033-4113-b867-c887938aad5d",
   "metadata": {},
   "outputs": [
    {
     "name": "stdout",
     "output_type": "stream",
     "text": [
      "Updated list after removing 20: [10, 30, 40, 20]\n"
     ]
    }
   ],
   "source": [
    "#Remove the first occurrence of the number 20\n",
    "# Given list\n",
    "numbers = [10, 20, 30, 40, 20]\n",
    "\n",
    "# Remove the first occurrence of 20\n",
    "numbers.remove(20)\n",
    "\n",
    "# Print the updated list\n",
    "print(\"Updated list after removing 20:\", numbers)"
   ]
  },
  {
   "cell_type": "code",
   "execution_count": 37,
   "id": "ea9b9c3d-3dbf-46ca-849f-327b41c5c492",
   "metadata": {},
   "outputs": [
    {
     "name": "stdout",
     "output_type": "stream",
     "text": [
      "Number of times 10 appears: 3\n"
     ]
    }
   ],
   "source": [
    "#Count how many times 10 appears in the list.\n",
    "# Given list\n",
    "numbers = [10, 20, 30, 10, 40, 10]\n",
    "\n",
    "# Count how many times 10 appears\n",
    "count_of_10 = numbers.count(10)\n",
    "\n",
    "# Print the count\n",
    "print(\"Number of times 10 appears:\", count_of_10)"
   ]
  },
  {
   "cell_type": "code",
   "execution_count": 39,
   "id": "bba6e3de-b716-40b1-ac10-64ca508942cb",
   "metadata": {},
   "outputs": [
    {
     "name": "stdout",
     "output_type": "stream",
     "text": [
      "List after reverse: [50, 40, 30, 20, 10]\n"
     ]
    }
   ],
   "source": [
    "#Reverse a List\n",
    "# Given list\n",
    "numbers = [10, 20, 30, 40, 50]\n",
    "\n",
    "# Reverse the list\n",
    "numbers.reverse()\n",
    "\n",
    "# Print the reversed list\n",
    "print(\"List after reverse:\", numbers)"
   ]
  },
  {
   "cell_type": "code",
   "execution_count": 41,
   "id": "63abfe6d-9e9c-4618-bb35-fd73737c10bb",
   "metadata": {},
   "outputs": [
    {
     "name": "stdout",
     "output_type": "stream",
     "text": [
      "List after sort: [10, 20, 30, 40, 50]\n"
     ]
    }
   ],
   "source": [
    "#Sort the list in ascending order.\n",
    "# Given list\n",
    "numbers = [50, 20, 40, 10, 30]\n",
    "\n",
    "# Sort the list in ascending order\n",
    "numbers.sort()\n",
    "\n",
    "# Print the sorted list\n",
    "print(\"List after sort:\", numbers)"
   ]
  },
  {
   "cell_type": "code",
   "execution_count": 43,
   "id": "34f9d9b7-e60c-4916-b4e7-8051b0a10fd2",
   "metadata": {},
   "outputs": [
    {
     "name": "stdout",
     "output_type": "stream",
     "text": [
      "Maximum value: 50\n",
      "Minimum value: 10\n"
     ]
    }
   ],
   "source": [
    "#Find the maximum and minimum values in the list.\n",
    "# Given list\n",
    "numbers = [50, 20, 40, 10, 30]\n",
    "\n",
    "# Find maximum and minimum values\n",
    "maximum_value = max(numbers)\n",
    "minimum_value = min(numbers)\n",
    "\n",
    "# Print the values\n",
    "print(\"Maximum value:\", maximum_value)\n",
    "print(\"Minimum value:\", minimum_value)"
   ]
  },
  {
   "cell_type": "code",
   "execution_count": 47,
   "id": "4a5a90b6-caa5-45e9-a207-f8bf9ddf5b21",
   "metadata": {},
   "outputs": [
    {
     "name": "stdout",
     "output_type": "stream",
     "text": [
      "Sum of list: 150\n"
     ]
    }
   ],
   "source": [
    "#The sum of all elements in the list.\n",
    "# Given list\n",
    "numbers = [50, 20, 40, 10, 30]\n",
    "\n",
    "# Calculate the sum of all elements\n",
    "total_sum = sum(numbers)\n",
    "\n",
    "# Print the sum\n",
    "print(\"Sum of list:\", total_sum)"
   ]
  }
 ],
 "metadata": {
  "kernelspec": {
   "display_name": "Python 3 (ipykernel)",
   "language": "python",
   "name": "python3"
  },
  "language_info": {
   "codemirror_mode": {
    "name": "ipython",
    "version": 3
   },
   "file_extension": ".py",
   "mimetype": "text/x-python",
   "name": "python",
   "nbconvert_exporter": "python",
   "pygments_lexer": "ipython3",
   "version": "3.12.4"
  }
 },
 "nbformat": 4,
 "nbformat_minor": 5
}
